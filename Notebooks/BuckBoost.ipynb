{
 "cells": [
  {
   "cell_type": "markdown",
   "metadata": {},
   "source": [
    "# Buck Boost Calculations"
   ]
  },
  {
   "cell_type": "markdown",
   "metadata": {},
   "source": [
    "## Define the parameters"
   ]
  },
  {
   "cell_type": "code",
   "execution_count": 2,
   "metadata": {
    "tags": []
   },
   "outputs": [],
   "source": [
    "fs=20000\n",
    "Vout=48\n",
    "Pout=250\n",
    "dv=0.2\n",
    "vinMin=40\n",
    "vinMax=60"
   ]
  },
  {
   "cell_type": "markdown",
   "metadata": {},
   "source": [
    "## Calculate the average output current"
   ]
  },
  {
   "cell_type": "markdown",
   "metadata": {},
   "source": [
    "$$I_{out}=\\frac{P_{out}}{V_{out}} \\text{ (1)} $$"
   ]
  },
  {
   "cell_type": "code",
   "execution_count": 3,
   "metadata": {
    "tags": []
   },
   "outputs": [],
   "source": [
    "Iout=Pout/Vout"
   ]
  },
  {
   "cell_type": "code",
   "execution_count": 4,
   "metadata": {
    "tags": []
   },
   "outputs": [
    {
     "name": "stdout",
     "output_type": "stream",
     "text": [
      "Iout = 5.208333333333333\n"
     ]
    }
   ],
   "source": [
    "print(\"Iout = \" + str(Iout))"
   ]
  },
  {
   "cell_type": "markdown",
   "metadata": {},
   "source": [
    "## Calculate min and max duty ratios from input voltage range"
   ]
  },
  {
   "cell_type": "markdown",
   "metadata": {},
   "source": [
    "$$Duty = \\frac{V_{out}}{V_{out}+V_{in}}  \\text{ (2)}$$"
   ]
  },
  {
   "cell_type": "code",
   "execution_count": 5,
   "metadata": {
    "tags": []
   },
   "outputs": [],
   "source": [
    "minD =Vout/(Vout+vinMin)"
   ]
  },
  {
   "cell_type": "code",
   "execution_count": 57,
   "metadata": {},
   "outputs": [
    {
     "name": "stdout",
     "output_type": "stream",
     "text": [
      "Duty at Vin(Min) = 0.5454545454545454\n"
     ]
    }
   ],
   "source": [
    "print(\"Duty at Vin(Min) = \" + str(minD))"
   ]
  },
  {
   "cell_type": "code",
   "execution_count": 6,
   "metadata": {
    "tags": []
   },
   "outputs": [
    {
     "name": "stdout",
     "output_type": "stream",
     "text": [
      "Duty at Vin(Max) = 0.4444444444444444\n"
     ]
    }
   ],
   "source": [
    "maxD = Vout/(Vout+vinMax)\n",
    "print(\"Duty at Vin(Max) = \" + str(maxD))"
   ]
  },
  {
   "cell_type": "markdown",
   "metadata": {},
   "source": [
    "## Calculate the minimum output Capacitances"
   ]
  },
  {
   "cell_type": "markdown",
   "metadata": {},
   "source": [
    "$$C_{min} = \\frac{I_{out} * D}{dV*f_s} \\text{ (3)}$$"
   ]
  },
  {
   "cell_type": "code",
   "execution_count": 7,
   "metadata": {
    "tags": []
   },
   "outputs": [
    {
     "name": "stdout",
     "output_type": "stream",
     "text": [
      "Cmin @ 40 = 710.2272727272726uF\n"
     ]
    }
   ],
   "source": [
    "cminMin = Iout*minD/(dv*fs)\n",
    "print(\"Cmin @ 40 = \" + str(cminMin*1e6) + \"uF\")"
   ]
  },
  {
   "cell_type": "code",
   "execution_count": 8,
   "metadata": {
    "tags": []
   },
   "outputs": [
    {
     "name": "stdout",
     "output_type": "stream",
     "text": [
      "Cmin @ 60 = 578.7037037037036uF\n"
     ]
    }
   ],
   "source": [
    "cminMax = Iout*maxD/(dv*fs)\n",
    "print(\"Cmin @ 60 = \" + str(cminMax*1e6) + \"uF\")"
   ]
  },
  {
   "cell_type": "code",
   "execution_count": 9,
   "metadata": {
    "tags": []
   },
   "outputs": [],
   "source": [
    "if(cminMin>cminMax):\n",
    "    cmin=cminMin\n",
    "else:\n",
    "    cmin=cminMax"
   ]
  },
  {
   "cell_type": "code",
   "execution_count": 10,
   "metadata": {
    "tags": []
   },
   "outputs": [
    {
     "name": "stdout",
     "output_type": "stream",
     "text": [
      "Cmin is the largest of the 2 options 710.2272727272726 uF\n"
     ]
    }
   ],
   "source": [
    "print(\"Cmin is the largest of the 2 options \" + str(cmin*1e6) + \" uF\")"
   ]
  },
  {
   "cell_type": "code",
   "execution_count": null,
   "metadata": {},
   "outputs": [],
   "source": []
  }
 ],
 "metadata": {
  "kernelspec": {
   "display_name": "Python 3 (ipykernel)",
   "language": "python",
   "name": "python3"
  },
  "language_info": {
   "codemirror_mode": {
    "name": "ipython",
    "version": 3
   },
   "file_extension": ".py",
   "mimetype": "text/x-python",
   "name": "python",
   "nbconvert_exporter": "python",
   "pygments_lexer": "ipython3",
   "version": "3.11.1"
  }
 },
 "nbformat": 4,
 "nbformat_minor": 4
}

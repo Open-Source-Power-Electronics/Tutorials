{
 "cells": [
  {
   "cell_type": "markdown",
   "id": "ce65d1e4",
   "metadata": {},
   "source": [
    "# The Boost Converter"
   ]
  },
  {
   "attachments": {
    "image-2.png": {
     "image/png": "[encoded data removed]"
    }
   },
   "cell_type": "markdown",
   "id": "17a464c2",
   "metadata": {},
   "source": [
    "## Introduction\n",
    "\n",
    "The Boost Converter is a form of DC to DC power electronics converter that always has an output voltage higher than the input voltage. It has the topology as shown in the figure below:\n",
    "\n",
    "![image-2.png](attachment:image-2.png)\n",
    "\n",
    "The operation of the Boost converter depends on the high frequency switching of the power switch (in this case shown as a MOSFET) and we can analyse its behaviour making some basic assumptions."
   ]
  },
  {
   "cell_type": "markdown",
   "id": "134946f9",
   "metadata": {},
   "source": [
    "## Analysis Assumptions\n",
    "The basic assumptions that we make are defined as follows:\n",
    "* The Converter has reached steady state operation\n",
    "* The load is resistive\n",
    "* The power switch and diode are ideal (zero voltage drop and zero resistance in the on state)\n",
    "* The output voltage ripple is negligible compared to the average output voltage\n",
    "* The inductor and capacitor are ideal, with no parasitic resistance or inductance"
   ]
  },
  {
   "cell_type": "markdown",
   "id": "227cac99",
   "metadata": {},
   "source": [
    "Taking these assumptions into account, we can define the operation of the converter using the periods when the transistor is turned on (The \"ON state\") and when it is turned off (the \"OFF state\"). The switching frequency of the converter is defined using the term Fs or Fsw, and is usually in the order of 10's of kHz."
   ]
  },
  {
   "cell_type": "markdown",
   "id": "3b170dfb",
   "metadata": {},
   "source": [
    "## The \"Duty Ratio\"\n",
    "\n",
    "The key design parameter that determines the output voltage is called the \"Duty Ratio\" and this mwans the ratio of the on time during the ON state, divided by the overall switching period (1/Fsw).\n",
    "\n",
    "We can therefore define the Duty ratio (D) using the following expression:\n",
    "\n",
    "$$D = t_{on}/F_{sw}$$"
   ]
  },
  {
   "cell_type": "markdown",
   "id": "0ac3103a",
   "metadata": {},
   "source": [
    "This will always be in the range of 0 to 1, and is often converted to a percentage, therefore the ratio needs to be multiplied by 100 to obtain the duty ratio as a percentage."
   ]
  },
  {
   "cell_type": "markdown",
   "id": "d3eb39c6",
   "metadata": {},
   "source": [
    "## Derivation of the voltage transformation ratio\n",
    "\n",
    "The procedure for deriving the output voltage (and hence the voltage transformation ratio) is based on calculating the behaviour of the current in the inductor in both the ON and OFF states.\n",
    "\n",
    "If we return to the assumptions, the most important is that we have reached steady state. This implies that the average current will be a constant value, and therefore the nett effect of the ON and OFF states will be the same. I.e. that the rise of the inductor current during the ON state will be equal to the fall of the inductor current during the OFF state.\n",
    "\n",
    "The behaviour of the inductor current during the ON and OFF states is defined by the fundamental equation of the inductor $$V = L \\frac{di}{dt}$$ where the inductor current for a fixed value of inductor voltage during the ON and OFF states will result in a sloping current value.\n",
    "\n",
    "The inductor current slope is defined by rearranging the basic inductor equation in terms of the voltage and inductance $$\\frac{di}{dt} = \\frac{V}{L}$$\n"
   ]
  },
  {
   "cell_type": "markdown",
   "id": "04c208d3",
   "metadata": {},
   "source": [
    "## Calculation of the inductor current during the ON state\n",
    "\n",
    "During the on state, the rise in current is defined from the equation: $$\\frac{di}{dt} = \\frac{V}{L}$$\n",
    "\n",
    "When the transistor is ON, the left hand side of the inductor is at the input voltage Vin and the right hand side of the inductor is at the output voltage V. Therefore the inductor Voltage is defined by $$V_L = V_{in}$$\n",
    "\n",
    "The on time of the current is defined by dt, which is the on time ton, which can be defined in terms of the Duty and Period using the equation $$t_{on} = D * Period = \\frac{D}{F_{sw}}$$\n",
    "\n",
    "Therefore we can express the change in current in terms of these parameters using the following equation: $$\\frac{\\Delta I}{dt} = \\frac{V}{L}$$ and replacing the terms for dt and V using: $$\\frac{\\Delta I}{D * Period} = \\frac{V_{in}}{L}$$\n",
    "\n",
    "Rearranging this equation, and substituting the switching frequency we therefore can obtain the expression for the rise in current during the ON state as $$\\Delta I = \\frac{V_{in}}{L} * \\frac{D}{F_{sw}}$$"
   ]
  },
  {
   "cell_type": "markdown",
   "id": "2b27d962",
   "metadata": {},
   "source": [
    "## Calculation of the inductor current during the OFF state\n",
    "\n",
    "\n",
    "During the off state, the fall in current is defined from the same fundamental inductor equation: $$\\frac{di}{dt} = \\frac{V_{in}-V_{out}}{L}$$\n",
    "\n",
    "During the off state, the left hand side of the inductor is connected to the reference node via the diode, and therefore the voltage across the inductor (using the same polarity as before) is defined by $$V_L=V_{in}-V_{out}$$. \n",
    "\n",
    "The off time of the current is defined by dt, which is the off time toff, which can be defined in terms of the Duty and Period using the equation $$t_{off} = (1-D) * Period = \\frac{1-D}{F_{sw}}$$ as the off time is the remainder of the period NOT being used by the ON state, therefore is the proprtion of the period NOT occupied by the ON state and can therefore be defined as 1-D.\n"
   ]
  },
  {
   "cell_type": "markdown",
   "id": "78b40ba9",
   "metadata": {},
   "source": [
    "## Equating the inductor current during the ON and OFF states\n",
    "\n",
    "As we noted with our first assumption, the inductor current rise and fall are equal to achieve steady state operation, and therefore we can equate our equations for the change in current from the previous 2 sections:\n",
    "\n",
    "$$\\Delta I = \\frac{V_{in}}{L} * \\frac{D}{F_{sw}}$$\n",
    "\n",
    "and\n",
    "\n",
    "$$\\Delta I = \\frac{V_{in}-V_{out}}{L} * \\frac{(1-D)}{F_{sw}}$$\n",
    "\n",
    "However, first we need to multiply the second equation by -1, as this is a falling current.\n",
    "\n",
    "Which gives :\n",
    "\n",
    "$$\\Delta I = -\\frac{V_{in}-V_{out}}{L} * \\frac{(1-D)}{F_{sw}} = \\frac{V_{in}}{L} * \\frac{D}{F_{sw}}$$\n",
    "\n",
    "The first aspect to notice is that we can cancel out both the L and Fsw terms as they appear on both sides of the equation, and this simplifies to:\n",
    "\n",
    "$$(V_{out} - V_{in} ) * (1-D) = V_{in} * D $$\n"
   ]
  },
  {
   "cell_type": "markdown",
   "id": "b9b5c426",
   "metadata": {},
   "source": [
    "As the goal is to obtain the voltage transformation ratio \n",
    "\n",
    "$$\\frac{V_{out}}{V_{in}}$$ \n",
    "\n",
    "we need to collect the terms for Vin and V accordingly, therefore we can expand the equation thus\n",
    "\n",
    "$$V_{out} - V_{in} + D V_{in} - D V_{out} = V_{in} D$$\n",
    "\n",
    "we can cancel out the VD from both sides leaving \n",
    "\n",
    "$$V_{out} - V_{in} - D V_{out} = 0$$ \n",
    "\n",
    "which can be rewritten as\n",
    "\n",
    "$$V_{out}(1-D) = V_{in}$$\n",
    "\n",
    "the voltage transformation ratio by dividing both sides by V_{in}\n",
    "\n",
    "$$\\frac{V_{out}}{V_{in}}(1-D) = 1$$.\n",
    "\n",
    "and dividing both sides by (1-D) to obtain\n",
    "\n",
    "$$\\frac{V_{out}}{V_{in}} = \\frac{1}{1-D}$$\n",
    "\n",
    "This equation therefore indicates that the output voltage will have a minimum value of the input voltage (where D=0) and as D increases, the output voltage will also increase."
   ]
  },
  {
   "cell_type": "markdown",
   "id": "b8c917fc",
   "metadata": {},
   "source": [
    "For the case where we know the Voltage transformation ratio and we wish to calculate the required duty ratio we can rearrange the equation in terms of Vin and Vout to obtain the duty ratio D.\n",
    "\n",
    "$$\\frac{V_{out}}{V_{in}} = \\frac{1}{1-D}$$\n",
    "\n",
    "Can be rearranged by multiplying both sides by Vin:\n",
    "\n",
    "$$V_{out} = \\frac{V_{in}}{1-D}$$\n",
    "\n",
    "Then multiplying both sides by (1-D):\n",
    "\n",
    "$$V_{out}(1-D) = V_{in}$$\n",
    "\n",
    "Expanding out gives:\n",
    "\n",
    "$$V_{out} - D V_{out} = V_{in}$$\n",
    "\n",
    "and collecting the terms:\n",
    "\n",
    "$$D V_{out} = V_{out} - V_{in}$$\n",
    "\n",
    "and dividing by Vout:\n",
    "\n",
    "$$D = \\frac{V_{out} - V_{in}}{V_{out}}$$"
   ]
  },
  {
   "cell_type": "markdown",
   "id": "4d9fc0a0",
   "metadata": {},
   "source": [
    "## Voltage Transformation Ratio of a Boost Converter\n",
    "\n",
    "In order to demonstrate the voltage transformative behaviour of the Boost converter we can take some examples. \n",
    "\n",
    "### Example 1 - Calculate the duty ratio required\n",
    "\n",
    "In this first example, if we need to calculate the duty ratio required, we need the input and output volatges to be defined"
   ]
  },
  {
   "cell_type": "code",
   "execution_count": 2,
   "id": "a4128f18",
   "metadata": {},
   "outputs": [],
   "source": [
    "Vin=12"
   ]
  },
  {
   "cell_type": "code",
   "execution_count": 8,
   "id": "352e070d",
   "metadata": {},
   "outputs": [],
   "source": [
    "Vout=36"
   ]
  },
  {
   "cell_type": "code",
   "execution_count": 9,
   "id": "c85a03ce",
   "metadata": {},
   "outputs": [],
   "source": [
    "D=(Vout-Vin)/Vout"
   ]
  },
  {
   "cell_type": "code",
   "execution_count": 10,
   "id": "6e005fe0",
   "metadata": {},
   "outputs": [
    {
     "name": "stdout",
     "output_type": "stream",
     "text": [
      "The Duty Ratio required for an Input Voltage of 12 and an output voltage of 36 is 0.6666666666666666\n"
     ]
    }
   ],
   "source": [
    "print(\"The Duty Ratio required for an Input Voltage of \" + str(Vin) + \" and an output voltage of \" + str(Vout) + \" is \" + str(D))"
   ]
  },
  {
   "cell_type": "markdown",
   "id": "f9821144",
   "metadata": {},
   "source": [
    "and if this is required as a percentage needs to be multiplied by 100:"
   ]
  },
  {
   "cell_type": "code",
   "execution_count": 11,
   "id": "ef9d7c9b",
   "metadata": {},
   "outputs": [],
   "source": [
    "Dpercentage = D*100"
   ]
  },
  {
   "cell_type": "code",
   "execution_count": 12,
   "id": "42886617",
   "metadata": {},
   "outputs": [
    {
     "name": "stdout",
     "output_type": "stream",
     "text": [
      "The Duty Ratio in percentage terms is 66.66666666666666 %\n"
     ]
    }
   ],
   "source": [
    "print(\"The Duty Ratio in percentage terms is \" + str(Dpercentage) + \" %\")"
   ]
  },
  {
   "cell_type": "markdown",
   "id": "df1b99c4",
   "metadata": {},
   "source": [
    "### Example 2: Calculate the output voltage from a Duty Ratio\n",
    "\n",
    "In this example, we can calculate the output voltage of a Buck converter if we know the input voltage and the duty ratio.\n",
    "\n",
    "$$V_{out} = \\frac{V_{in}}{1-D}$$\n"
   ]
  },
  {
   "cell_type": "code",
   "execution_count": 13,
   "id": "9ba61f79",
   "metadata": {},
   "outputs": [],
   "source": [
    "Vin=100"
   ]
  },
  {
   "cell_type": "code",
   "execution_count": 14,
   "id": "ca85c976",
   "metadata": {},
   "outputs": [],
   "source": [
    "D = 0.5"
   ]
  },
  {
   "cell_type": "code",
   "execution_count": 15,
   "id": "af084531",
   "metadata": {},
   "outputs": [],
   "source": [
    "Vout=Vin/(1-D)"
   ]
  },
  {
   "cell_type": "code",
   "execution_count": 16,
   "id": "458e327c",
   "metadata": {},
   "outputs": [
    {
     "name": "stdout",
     "output_type": "stream",
     "text": [
      "Output Voltage for Input Voltage of 100 and Duty of 0.5 is 200.0\n"
     ]
    }
   ],
   "source": [
    "print(\"Output Voltage for Input Voltage of \" + str(Vin) + \" and Duty of \" + str(D) + \" is \" + str(Vout))"
   ]
  },
  {
   "cell_type": "markdown",
   "id": "c35bce08",
   "metadata": {},
   "source": [
    "## Buck Converter Waveforms\n",
    "\n",
    "If we need to visualize the inductor current waveforms, they are a sawtooth where the time of the rising edge is proportional to the duty ratio.\n",
    "\n",
    "In order to set the converter behaviour, we need to define the important parameters for the design as follows:"
   ]
  },
  {
   "cell_type": "code",
   "execution_count": 26,
   "id": "98f7b179",
   "metadata": {},
   "outputs": [],
   "source": [
    "vin = 50\n",
    "vout = 100\n",
    "r = 10\n",
    "l = 0.002\n",
    "c = 100.0e-6\n",
    "fs = 10000"
   ]
  },
  {
   "cell_type": "markdown",
   "id": "1a790507",
   "metadata": {},
   "source": [
    "Derive the key design parameters"
   ]
  },
  {
   "cell_type": "code",
   "execution_count": 30,
   "id": "09310a68",
   "metadata": {},
   "outputs": [
    {
     "name": "stdout",
     "output_type": "stream",
     "text": [
      "Duty Ratio = 0.25\n",
      "Iaverage = 10.0 delta I = 0.625\n"
     ]
    }
   ],
   "source": [
    "iout = vout/r\n",
    "il_ave = iout\n",
    "d = (vout-vin)/Vout\n",
    "print(\"Duty Ratio = \" + str(d))\n",
    "deltaI = vin*d/(l*fs)\n",
    "print(\"Iaverage = \" + str(il_ave) + \" delta I = \" + str(deltaI))\n",
    "imin = il_ave - deltaI\n",
    "imax = il_ave + deltaI\n",
    "ton = d/fs\n",
    "toff=(1-d)/fs\n",
    "ts = 1/fs"
   ]
  },
  {
   "cell_type": "code",
   "execution_count": 31,
   "id": "da9e9f62",
   "metadata": {},
   "outputs": [],
   "source": [
    "import matplotlib.pyplot  as plt"
   ]
  },
  {
   "cell_type": "code",
   "execution_count": 32,
   "id": "f9a76951",
   "metadata": {},
   "outputs": [
    {
     "data": {
      "image/png": "[encoded data removed]",
      "text/plain": [
       "<Figure size 640x480 with 1 Axes>"
      ]
     },
     "metadata": {},
     "output_type": "display_data"
    }
   ],
   "source": [
    "t = [0, ton, ts, ton+ts, ts*2, ton+ts*2, ts*3]\n",
    "i = [imin, imax, imin, imax, imin, imax, imin]\n",
    "\n",
    "fig, ax = plt.subplots()\n",
    "ax.plot(t, i)\n",
    "\n",
    "ax.set(xlabel='time (s)', ylabel='current (A)',\n",
    "       title='Steady State Inductor Current Waveform')\n",
    "ax.grid()\n",
    "\n",
    "plt.show()"
   ]
  },
  {
   "cell_type": "markdown",
   "id": "acd1d5e7",
   "metadata": {},
   "source": [
    "We can also make an estimate of the startup voltage and inductor current waveforms from an initia condition of zero output voltage. In this case we set the duty ratio to whichever value is required."
   ]
  },
  {
   "cell_type": "code",
   "execution_count": 49,
   "id": "4a13bf05",
   "metadata": {},
   "outputs": [],
   "source": [
    "l=0.001\n",
    "fs=20000\n",
    "vin = 100\n",
    "vout_target = 150\n",
    "d = (vout_target-vin)/vout_target\n",
    "\n",
    "print\n",
    "\n",
    "ton = d/fs\n",
    "toff=(1-d)/fs\n",
    "ts = 1/fs\n",
    "\n",
    "cycles = 30"
   ]
  },
  {
   "cell_type": "code",
   "execution_count": 52,
   "id": "4eacf460",
   "metadata": {},
   "outputs": [],
   "source": [
    "vout = 0\n",
    "t = []\n",
    "i = []\n",
    "v = []\n",
    "time = 0\n",
    "current = 0\n",
    "t.append(time)\n",
    "i.append(current)\n",
    "v.append(vout)\n",
    "for x in range(cycles):\n",
    "    iout = vout/r\n",
    "    irise = vin*d/(l*fs)\n",
    "    imin = current\n",
    "    current=current+irise\n",
    "    imax = current\n",
    "    iave = (imax+imin)/2\n",
    "    vout=iave*r\n",
    "    time=time+ton\n",
    "    t.append(time)\n",
    "    i.append(current)\n",
    "    v.append(vout)\n",
    "    ifall = (vin-vout)*(1-d)/(l*fs)\n",
    "    imax = current\n",
    "    current=current+ifall\n",
    "    imin = current\n",
    "    iave = (imax+imin)/2\n",
    "    vout=iave*r\n",
    "    vout=current*r\n",
    "    time=time+toff\n",
    "    \n",
    "    t.append(time)\n",
    "    i.append(current)\n",
    "    v.append(vout)\n",
    "\n"
   ]
  },
  {
   "cell_type": "code",
   "execution_count": 53,
   "id": "a1b9bebc",
   "metadata": {},
   "outputs": [
    {
     "data": {
      "image/png": "[encoded data removed]",
      "text/plain": [
       "<Figure size 640x480 with 1 Axes>"
      ]
     },
     "metadata": {},
     "output_type": "display_data"
    }
   ],
   "source": [
    "mysignals = [i,v]\n",
    "\n",
    "mysignals = [{'name': 'IL', 'x': t, 'y': i, 'color':'r', 'linewidth':1},\n",
    "             {'name': 'Vout', 'x': t, 'y': v, 'color':'b', 'linewidth':1}]\n",
    "\n",
    "fig, ax = plt.subplots()\n",
    "for signal in mysignals:\n",
    "    ax.plot(signal['x'], signal['y'], \n",
    "            color=signal['color'], \n",
    "            linewidth=signal['linewidth'],\n",
    "            label=signal['name'])\n",
    "\n",
    "# Enable legend\n",
    "ax.legend()\n",
    "ax.set_title(\"My graph\")\n",
    "plt.grid()\n",
    "plt.show()"
   ]
  },
  {
   "cell_type": "code",
   "execution_count": null,
   "id": "954d2815",
   "metadata": {},
   "outputs": [],
   "source": []
  },
  {
   "cell_type": "code",
   "execution_count": null,
   "id": "997e7b33",
   "metadata": {},
   "outputs": [],
   "source": []
  }
 ],
 "metadata": {
  "kernelspec": {
   "display_name": "Python 3 (ipykernel)",
   "language": "python",
   "name": "python3"
  },
  "language_info": {
   "codemirror_mode": {
    "name": "ipython",
    "version": 3
   },
   "file_extension": ".py",
   "mimetype": "text/x-python",
   "name": "python",
   "nbconvert_exporter": "python",
   "pygments_lexer": "ipython3",
   "version": "3.11.1"
  }
 },
 "nbformat": 4,
 "nbformat_minor": 5
}
